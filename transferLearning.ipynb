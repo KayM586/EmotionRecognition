{
 "cells": [
  {
   "cell_type": "markdown",
   "metadata": {},
   "source": [
    "Transfer Learning with VGG16 WITHOUT Augmentation/Pre-processing"
   ]
  },
  {
   "cell_type": "code",
   "execution_count": 49,
   "metadata": {},
   "outputs": [],
   "source": [
    "%matplotlib inline\n",
    "\n",
    "import numpy as np\n",
    "import os\n",
    "import matplotlib.pylab as plt\n",
    "import tensorflow as tf\n",
    "import pandas as pd\n",
    "from tensorflow import keras\n",
    "from tensorflow.keras.models import Sequential\n",
    "from tensorflow.keras.layers import Dense, Dropout, Flatten, Activation, BatchNormalization\n",
    "from tensorflow.keras.layers import Conv2D, MaxPooling2D\n",
    "from tensorflow.keras.preprocessing.image import ImageDataGenerator\n",
    "from tensorflow.keras.models import Model\n",
    "from sklearn.model_selection import train_test_split\n",
    "from sklearn.metrics import accuracy_score\n",
    "from tensorflow.keras.preprocessing import image\n",
    "from tensorflow.keras import layers\n",
    "from tensorflow.keras.preprocessing.image import load_img, img_to_array\n",
    "from PIL import Image\n",
    "from keras.utils import to_categorical\n",
    "from sklearn.preprocessing import LabelEncoder\n",
    "from tensorflow.keras.optimizers import Adam\n",
    "from tensorflow.keras.callbacks import EarlyStopping\n",
    "from keras.regularizers import l2\n",
    "from keras.applications.vgg16 import VGG16\n",
    "from keras import optimizers"
   ]
  },
  {
   "cell_type": "code",
   "execution_count": 50,
   "metadata": {},
   "outputs": [
    {
     "data": {
      "text/plain": [
       "['/Users/kaylienguyen/Downloads/FER_dataset/trainrevised/angry/Training_35668808.jpg',\n",
       " '/Users/kaylienguyen/Downloads/FER_dataset/trainrevised/disgust/Training_2580532.jpg',\n",
       " '/Users/kaylienguyen/Downloads/FER_dataset/trainrevised/fear/Training_19995150.jpg',\n",
       " '/Users/kaylienguyen/Downloads/FER_dataset/trainrevised/happy/Training_50449107.jpg',\n",
       " '/Users/kaylienguyen/Downloads/FER_dataset/trainrevised/neutral/Training_27707774.jpg',\n",
       " '/Users/kaylienguyen/Downloads/FER_dataset/trainrevised/sad/Training_86437620.jpg',\n",
       " '/Users/kaylienguyen/Downloads/FER_dataset/trainrevised/surprise/Training_53079763.jpg']"
      ]
     },
     "metadata": {},
     "output_type": "display_data"
    }
   ],
   "source": [
    "testEmotions = '/Users/kaylienguyen/Downloads/FER_dataset/testrevised'\n",
    "trainEmotions = '/Users/kaylienguyen/Downloads/FER_dataset/trainrevised'\n",
    "image_directories_test = [\n",
    "    os.path.join(testEmotions, \"angry\"),\n",
    "    os.path.join(testEmotions, \"disgust\"),\n",
    "    os.path.join(testEmotions, \"fear\"),\n",
    "    os.path.join(testEmotions, \"happy\"),\n",
    "    os.path.join(testEmotions, \"neutral\"),\n",
    "    os.path.join(testEmotions, \"sad\"),\n",
    "    os.path.join(testEmotions, \"surprise\")\n",
    "]\n",
    "image_directories_train = [\n",
    "    os.path.join(trainEmotions, \"angry\"),\n",
    "    os.path.join(trainEmotions, \"disgust\"),\n",
    "    os.path.join(trainEmotions, \"fear\"),\n",
    "    os.path.join(trainEmotions, \"happy\"),\n",
    "    os.path.join(trainEmotions, \"neutral\"),\n",
    "    os.path.join(trainEmotions, \"sad\"),\n",
    "    os.path.join(trainEmotions, \"surprise\")\n",
    "]\n",
    "\n",
    "def get_first_image(directory):\n",
    "    for filename in os.listdir(directory):\n",
    "        if filename.endswith(\".jpg\") or filename.endswith(\".png\"):\n",
    "            return os.path.join(directory, filename)\n",
    "        \n",
    "train_images = [get_first_image(directory) for directory in image_directories_train]\n",
    "display(train_images)"
   ]
  },
  {
   "cell_type": "code",
   "execution_count": 52,
   "metadata": {},
   "outputs": [
    {
     "ename": "UnidentifiedImageError",
     "evalue": "cannot identify image file '/Users/kaylienguyen/Downloads/FER_dataset/trainrevised/angry/Training_35668808.jpg'",
     "output_type": "error",
     "traceback": [
      "\u001b[0;31m---------------------------------------------------------------------------\u001b[0m",
      "\u001b[0;31mUnidentifiedImageError\u001b[0m                    Traceback (most recent call last)",
      "Cell \u001b[0;32mIn[52], line 6\u001b[0m\n\u001b[1;32m      4\u001b[0m \u001b[39mfor\u001b[39;00m i \u001b[39min\u001b[39;00m \u001b[39mrange\u001b[39m(\u001b[39mlen\u001b[39m(train_images)):\n\u001b[1;32m      5\u001b[0m     ax \u001b[39m=\u001b[39m plt\u001b[39m.\u001b[39msubplot(\u001b[39m2\u001b[39m, \u001b[39m7\u001b[39m, i \u001b[39m+\u001b[39m \u001b[39m1\u001b[39m)\n\u001b[0;32m----> 6\u001b[0m     image \u001b[39m=\u001b[39m Image\u001b[39m.\u001b[39mopen(train_images[i])\n\u001b[1;32m      7\u001b[0m     plt\u001b[39m.\u001b[39mimshow(image)\n\u001b[1;32m      8\u001b[0m     plt\u001b[39m.\u001b[39mgray()\n",
      "File \u001b[0;32m~/miniconda3/envs/ann/lib/python3.11/site-packages/PIL/Image.py:3309\u001b[0m, in \u001b[0;36mopen\u001b[0;34m(fp, mode, formats)\u001b[0m\n\u001b[1;32m   3307\u001b[0m     warnings\u001b[39m.\u001b[39mwarn(message)\n\u001b[1;32m   3308\u001b[0m msg \u001b[39m=\u001b[39m \u001b[39m\"\u001b[39m\u001b[39mcannot identify image file \u001b[39m\u001b[39m%r\u001b[39;00m\u001b[39m\"\u001b[39m \u001b[39m%\u001b[39m (filename \u001b[39mif\u001b[39;00m filename \u001b[39melse\u001b[39;00m fp)\n\u001b[0;32m-> 3309\u001b[0m \u001b[39mraise\u001b[39;00m UnidentifiedImageError(msg)\n",
      "\u001b[0;31mUnidentifiedImageError\u001b[0m: cannot identify image file '/Users/kaylienguyen/Downloads/FER_dataset/trainrevised/angry/Training_35668808.jpg'"
     ]
    },
    {
     "data": {
      "image/png": "[encoded data removed]",
      "text/plain": [
       "<Figure size 4800x4800 with 1 Axes>"
      ]
     },
     "metadata": {},
     "output_type": "display_data"
    }
   ],
   "source": [
    "#show a training image from each category\n",
    "\n",
    "plt.figure(figsize=(48, 48))\n",
    "for i in range(len(train_images)):\n",
    "    ax = plt.subplot(2, 7, i + 1)\n",
    "    image = Image.open(train_images[i])\n",
    "    plt.imshow(image)\n",
    "    plt.gray()\n",
    "    ax.get_xaxis().set_visible(False)\n",
    "    ax.get_yaxis().set_visible(False)\n",
    "\n",
    "    emotion_label = train_images[i].split(\"/\")[-2]\n",
    "    \n",
    "    plt.text(0.5, -0.1, emotion_label, horizontalalignment='center', fontsize=25, transform=ax.transAxes)\n",
    "\n",
    "plt.show()"
   ]
  },
  {
   "cell_type": "code",
   "execution_count": null,
   "metadata": {},
   "outputs": [
    {
     "name": "stdout",
     "output_type": "stream",
     "text": [
      "Number of train images: 28614\n",
      "Number of test images: 7071\n"
     ]
    }
   ],
   "source": [
    "#pre-processing\n",
    "\n",
    "def get_image_paths_and_labels(image_directories):\n",
    "    image_paths = []\n",
    "    labels = []\n",
    "\n",
    "    for i, directory in enumerate(image_directories):\n",
    "        emotion_label = os.path.basename(directory)\n",
    "        for filename in os.listdir(directory):\n",
    "            if filename.endswith(\".jpg\") or filename.endswith(\".png\"):\n",
    "                image_paths.append(os.path.join(directory, filename))\n",
    "                labels.append(emotion_label)\n",
    "\n",
    "    return image_paths, labels\n",
    "\n",
    "train_image_paths, train_labels = get_image_paths_and_labels(image_directories_train)\n",
    "test_image_paths, test_labels = get_image_paths_and_labels(image_directories_test)\n",
    "\n",
    "print(\"Number of train images:\", len(train_image_paths))\n",
    "print(\"Number of test images:\", len(test_image_paths))"
   ]
  },
  {
   "cell_type": "code",
   "execution_count": null,
   "metadata": {},
   "outputs": [],
   "source": [
    "def load_and_preprocess_images(image_paths, img_width, img_height):\n",
    "    images = []\n",
    "    for img_path in image_paths:\n",
    "        img = load_img(img_path, target_size=(img_width, img_height))\n",
    "        img_array = img_to_array(img)\n",
    "        images.append(img_array)\n",
    "    return np.array(images)\n",
    "\n",
    "img_width = 48\n",
    "img_height = 48\n",
    "\n",
    "X_train = load_and_preprocess_images(train_image_paths, img_width, img_height)\n",
    "X_test = load_and_preprocess_images(test_image_paths, img_width, img_height)\n",
    "\n",
    "label_encoder = LabelEncoder()\n",
    "\n",
    "# Fit and transform the labels for training data\n",
    "train_labels_encoded = label_encoder.fit_transform(train_labels)\n",
    "test_labels_encoded = label_encoder.transform(test_labels)\n",
    "\n",
    "# Convert the encoded labels to one-hot encoded vectors\n",
    "y_train = to_categorical(train_labels_encoded)\n",
    "y_test = to_categorical(test_labels_encoded)"
   ]
  },
  {
   "cell_type": "code",
   "execution_count": null,
   "metadata": {},
   "outputs": [],
   "source": [
    "input_shape = (img_width, img_height, 3)\n",
    "epochs = 10\n",
    "batch_size = 32\n",
    "\n",
    "\n",
    "conv_base = VGG16(weights='imagenet',\n",
    "                include_top=False,\n",
    "                input_shape=(48, 48, 3))\n",
    "conv_base.trainable = False\n",
    "\n",
    "model = Sequential([\n",
    "    Conv2D(filters=10, kernel_size=3, strides=(1, 1), padding='valid', activation='relu', input_shape=input_shape, kernel_regularizer=l2(.01)),\n",
    "    MaxPooling2D(pool_size=(2, 2), strides=2),\n",
    "    BatchNormalization(),\n",
    "    Conv2D(filters=20, kernel_size=3, strides=(1, 1), padding='valid', activation='relu'),\n",
    "    MaxPooling2D(pool_size=(2, 2), strides=2),\n",
    "    BatchNormalization(),\n",
    "    #Conv2D(filters=128, kernel_size=3, strides=(1, 1), padding='valid', activation='relu'),\n",
    "    #Conv2D(filters=256, kernel_size=3, strides=(1, 1), padding='valid', activation='relu'),\n",
    "    #Conv2D(filters=256, kernel_size=3, strides=(1, 1), padding='valid', activation='relu'),\n",
    "    Flatten(),\n",
    "    Dense(1024, activation = 'relu'),\n",
    "    Dense(512, activation = 'relu'),\n",
    "    Dropout(0.5),\n",
    "    Dense(128, activation='relu'),\n",
    "    Dropout(0.25),\n",
    "    Dense(7, activation='softmax')\n",
    "])\n",
    "\n",
    "# model.compile(\n",
    "#     optimizer=optimizers.RMSprop(lr=1e-4),\n",
    "#     loss='categorical_crossentropy',\n",
    "#     metrics=['categorical_accuracy']\n",
    "# )\n",
    "\n",
    "conv_base.trainable = True\n",
    "set_trainable = False\n",
    "for layer in conv_base.layers:\n",
    "    if layer.name == 'block5_conv1':\n",
    "        set_trainable = True\n",
    "    if set_trainable:\n",
    "        layer.trainable = True\n",
    "    else:\n",
    "        layer.trainable = False\n"
   ]
  },
  {
   "cell_type": "code",
   "execution_count": null,
   "metadata": {},
   "outputs": [
    {
     "name": "stderr",
     "output_type": "stream",
     "text": [
      "WARNING:absl:At this time, the v2.11+ optimizer `tf.keras.optimizers.Adam` runs slowly on M1/M2 Macs, please use the legacy Keras optimizer instead, located at `tf.keras.optimizers.legacy.Adam`.\n",
      "WARNING:absl:`lr` is deprecated in Keras optimizer, please use `learning_rate` or use the legacy optimizer, e.g.,tf.keras.optimizers.legacy.Adam.\n"
     ]
    },
    {
     "name": "stdout",
     "output_type": "stream",
     "text": [
      "Epoch 1/10\n",
      "716/716 [==============================] - 32s 44ms/step - loss: 0.5334 - accuracy: 0.8230 - val_loss: 21.3872 - val_accuracy: 0.0874 - lr: 0.0010\n",
      "Epoch 2/10\n",
      "716/716 [==============================] - 35s 49ms/step - loss: 0.4252 - accuracy: 0.8690 - val_loss: 25.8823 - val_accuracy: 0.0771 - lr: 0.0010\n",
      "Epoch 3/10\n",
      "716/716 [==============================] - 31s 43ms/step - loss: 0.3250 - accuracy: 0.9063 - val_loss: 30.0194 - val_accuracy: 0.0657 - lr: 0.0010\n",
      "Epoch 4/10\n",
      "716/716 [==============================] - 31s 43ms/step - loss: 0.2557 - accuracy: 0.9286 - val_loss: 39.8229 - val_accuracy: 0.0444 - lr: 0.0010\n",
      "Epoch 5/10\n",
      "716/716 [==============================] - 34s 47ms/step - loss: 0.1111 - accuracy: 0.9754 - val_loss: 38.2161 - val_accuracy: 0.0793 - lr: 2.0000e-04\n",
      "Epoch 6/10\n",
      "716/716 [==============================] - 32s 44ms/step - loss: 0.0542 - accuracy: 0.9905 - val_loss: 43.7157 - val_accuracy: 0.0949 - lr: 2.0000e-04\n",
      "Epoch 7/10\n",
      "716/716 [==============================] - 32s 45ms/step - loss: 0.0431 - accuracy: 0.9948 - val_loss: 46.8878 - val_accuracy: 0.1001 - lr: 2.0000e-04\n",
      "Epoch 8/10\n",
      "716/716 [==============================] - 36s 50ms/step - loss: 0.0373 - accuracy: 0.9970 - val_loss: 50.2578 - val_accuracy: 0.0821 - lr: 4.0000e-05\n",
      "Epoch 9/10\n",
      "716/716 [==============================] - 34s 47ms/step - loss: 0.0329 - accuracy: 0.9970 - val_loss: 50.3127 - val_accuracy: 0.0875 - lr: 4.0000e-05\n",
      "Epoch 10/10\n",
      "716/716 [==============================] - 33s 46ms/step - loss: 0.0322 - accuracy: 0.9973 - val_loss: 51.6481 - val_accuracy: 0.0874 - lr: 4.0000e-05\n",
      "221/221 [==============================] - 2s 8ms/step - loss: 13.9324 - accuracy: 0.4254\n",
      "Test Loss:  13.93237590789795\n",
      "Test Accuracy: 0.425399512052536\n"
     ]
    }
   ],
   "source": [
    "from keras.callbacks import ReduceLROnPlateau\n",
    "\n",
    "initial_learning_rate = 1e-4\n",
    "\n",
    "# Define a learning rate scheduler\n",
    "lr_scheduler = ReduceLROnPlateau(\n",
    "    monitor='val_loss',   \n",
    "    factor=0.2,           \n",
    "    patience=3,           \n",
    "    min_lr=1e-6           \n",
    ")\n",
    "\n",
    "\n",
    "model.compile(\n",
    "    optimizer=optimizers.Adam(lr=initial_learning_rate),  \n",
    "    loss='categorical_crossentropy',\n",
    "    metrics=['accuracy']\n",
    ")\n",
    "\n",
    "\n",
    "model.fit(\n",
    "    X_train, y_train,\n",
    "    epochs=epochs,\n",
    "    batch_size=batch_size,\n",
    "    validation_split=0.2,\n",
    "    callbacks=[lr_scheduler]  \n",
    ")\n",
    "\n",
    "\n",
    "\n",
    "#model.compile(loss='categorical_crossentropy', metrics=['accuracy'], optimizer=optimizers.Adam(lr=1e-4))\n",
    "#model.fit(X_train, y_train, epochs=epochs, batch_size=batch_size, validation_split=0.2)\n",
    "\n",
    "#early_stopping = EarlyStopping(monitor='val_loss', patience=5, restore_best_weights=True)\n",
    "#model.fit(X_train, y_train, epochs=epochs, batch_size=batch_size, validation_split=0.2, callbacks=[early_stopping])\n",
    "test_loss, test_accuracy = model.evaluate(X_test, y_test)\n",
    "print('Test Loss: ', test_loss)\n",
    "print(\"Test Accuracy:\", test_accuracy)"
   ]
  }
 ],
 "metadata": {
  "kernelspec": {
   "display_name": "ann",
   "language": "python",
   "name": "python3"
  },
  "language_info": {
   "codemirror_mode": {
    "name": "ipython",
    "version": 3
   },
   "file_extension": ".py",
   "mimetype": "text/x-python",
   "name": "python",
   "nbconvert_exporter": "python",
   "pygments_lexer": "ipython3",
   "version": "3.11.7"
  },
  "orig_nbformat": 4
 },
 "nbformat": 4,
 "nbformat_minor": 2
}
